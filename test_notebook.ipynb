{
 "cells": [
  {
   "cell_type": "markdown",
   "id": "3847396c",
   "metadata": {},
   "source": [
    "# PIB SDK Test Notebook\n",
    "\n",
    "Dieses Notebook testet die Grundfunktionalitäten des PIB SDK in der containerisierten Umgebung."
   ]
  },
  {
   "cell_type": "code",
   "execution_count": null,
   "id": "587eb9a1",
   "metadata": {
    "vscode": {
     "languageId": "plaintext"
    }
   },
   "outputs": [],
   "source": [
    "from pib_sdk import control\n",
    "from pib_sdk.kinematics import fk, ik\n",
    "from pib_sdk.speech import *\n",
    "\n",
    "print('FK pose:', fk('right', [0,45,0,0,90,0]))\n",
    "print('IK angles:', ik('right', xyz=[150,0,350]))\n",
    "\n",
    "sp = speak(host=\"192.168.1.208\")\n",
    "sp.say(\"Test\")\n",
    "\n",
    "w = Write(host=\"192.168.1.208\")\n",
    "#w.move()"
   ]
  }
 ],
 "metadata": {
  "kernelspec": {
   "display_name": "Python 3 (ipykernel)",
   "language": "python",
   "name": "python3"
  },
  "language_info": {
   "codemirror_mode": {
    "name": "ipython",
    "version": 3
   },
   "file_extension": ".py",
   "mimetype": "text/x-python",
   "name": "python",
   "nbconvert_exporter": "python",
   "pygments_lexer": "ipython3",
   "version": "3.9.5"
  }
 },
 "nbformat": 4,
 "nbformat_minor": 5
}
